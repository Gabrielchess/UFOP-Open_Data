{
 "cells": [
  {
   "cell_type": "code",
   "execution_count": 2,
   "id": "56476a48",
   "metadata": {},
   "outputs": [],
   "source": [
    "from sqlalchemy import create_engine\n",
    "import pandas as pd\n",
    "import requests\n",
    "import os"
   ]
  },
  {
   "cell_type": "code",
   "execution_count": null,
   "id": "841131e4",
   "metadata": {},
   "outputs": [],
   "source": [
    "path = \"C:/Users/James Bond/Desktop/DataAnaliseUFOP/SISU/Regular\"\n",
    "\n",
    "dfs = os.listdir(path)\n",
    "os.chdir(path)\n",
    "regular = []\n",
    "\n",
    "for i in range(len(dfs)):\n",
    "    chamadaRegular = pd.read_csv(dfs[i], sep = ';')\n",
    "    chamadaRegular = (chamadaRegular[chamadaRegular['SIGLA_IES'] == 'UFOP']).reset_index(drop=True)\n",
    "    chamadaRegular = chamadaRegular.drop(['NU_EDICAO', 'CO_ETAPA','DS_ETAPA','CO_IES','SG_UF_IES','SG_UF_CAMPUS'], axis=1)\n",
    "    regular.append(chamadaRegular)"
   ]
  },
  {
   "cell_type": "code",
   "execution_count": null,
   "id": "6817505c",
   "metadata": {},
   "outputs": [],
   "source": [
    "path = \"C:/Users/James Bond/Desktop/DataAnaliseUFOP/SISU/Regular\"\n",
    "\n",
    "os.chdir(path)\n",
    "regular = []\n",
    "\n",
    "chamadaRegular = pd.read_csv(\"ListagemChamadaRegular_2018-2.csv\", sep = ';')\n",
    "chamadaRegular = (chamadaRegular[chamadaRegular['SIGLA_IES'] == 'UFOP']).reset_index(drop=True)\n",
    "chamadaRegular = chamadaRegular.drop(['NU_EDICAO', 'CO_ETAPA','DS_ETAPA','CO_IES','SG_UF_IES','SG_UF_CAMPUS'], axis=1)\n",
    "\n",
    "chamadaRegular.to_excel(\"ListagemChamadaRegular_2018-2-UFOP.xlsx\")"
   ]
  },
  {
   "cell_type": "code",
   "execution_count": null,
   "id": "15f6fcac",
   "metadata": {},
   "outputs": [],
   "source": [
    "regular = regular.concat()"
   ]
  },
  {
   "cell_type": "code",
   "execution_count": null,
   "id": "7765a1d4",
   "metadata": {},
   "outputs": [],
   "source": [
    "cnxn_str = (\"Driver={SQL Server Native Client 11.0};\"\n",
    "            \"Server=DESKTOP-021P0C7;\"\n",
    "            \"Database=UFOP_DW;\"\n",
    "            \"Trusted_Connection=yes;\")\n",
    "cnxn = pyodbc.connect(cnxn_str)\n",
    "\n",
    "DB = {'servername': 'DESKTOP-021P0C7',\n",
    "      'database': 'UFOP_DW',\n",
    "      'driver': 'driver=SQL Server Native Client 11.0'}\n",
    "\n",
    "engine = create_engine('mssql+pyodbc://' + DB['servername'] + '/' + DB['database'] + \"?\" + DB['driver'])"
   ]
  },
  {
   "cell_type": "code",
   "execution_count": null,
   "id": "01cda315",
   "metadata": {},
   "outputs": [],
   "source": [
    "regular.to_sql('SISUchamadaRegular', index=False, con=engine)"
   ]
  }
 ],
 "metadata": {
  "kernelspec": {
   "display_name": "Python 3",
   "language": "python",
   "name": "python3"
  },
  "language_info": {
   "codemirror_mode": {
    "name": "ipython",
    "version": 3
   },
   "file_extension": ".py",
   "mimetype": "text/x-python",
   "name": "python",
   "nbconvert_exporter": "python",
   "pygments_lexer": "ipython3",
   "version": "3.8.8"
  }
 },
 "nbformat": 4,
 "nbformat_minor": 5
}
